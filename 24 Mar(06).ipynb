{
 "cells": [
  {
   "cell_type": "code",
   "execution_count": 3,
   "id": "25359448-eed5-4578-a6e4-cef28779428f",
   "metadata": {},
   "outputs": [
    {
     "name": "stdout",
     "output_type": "stream",
     "text": [
      "Original shape of data: (100, 5)\n",
      "Reduced shape of data: (100, 3)\n"
     ]
    }
   ],
   "source": [
    "# Importing the necessary libraries\n",
    "import pandas as pd\n",
    "import numpy as np\n",
    "import seaborn as sns\n",
    "import matplotlib.pyplot as plt\n",
    "import numpy as np\n",
    "from sklearn.decomposition import PCA\n",
    "\n",
    "df=pd.read_csv('winequality-red.csv')\n",
    "\n",
    "# Initializing PCA and specifying the number of components to keep\n",
    "pca = PCA(n_components=3)\n",
    "\n",
    "# Fitting the data and transforming it to reduced dimensions\n",
    "X_reduced = pca.fit_transform(X)\n",
    "\n",
    "# Printing the original shape and reduced shape of the data\n",
    "print(\"Original shape of data:\", X.shape)\n",
    "print(\"Reduced shape of data:\", X_reduced.shape)\n"
   ]
  },
  {
   "cell_type": "code",
   "execution_count": null,
   "id": "ee97d660-978f-4bd3-a9f5-a540f792d73f",
   "metadata": {},
   "outputs": [],
   "source": []
  }
 ],
 "metadata": {
  "kernelspec": {
   "display_name": "Python 3 (ipykernel)",
   "language": "python",
   "name": "python3"
  },
  "language_info": {
   "codemirror_mode": {
    "name": "ipython",
    "version": 3
   },
   "file_extension": ".py",
   "mimetype": "text/x-python",
   "name": "python",
   "nbconvert_exporter": "python",
   "pygments_lexer": "ipython3",
   "version": "3.10.8"
  }
 },
 "nbformat": 4,
 "nbformat_minor": 5
}
